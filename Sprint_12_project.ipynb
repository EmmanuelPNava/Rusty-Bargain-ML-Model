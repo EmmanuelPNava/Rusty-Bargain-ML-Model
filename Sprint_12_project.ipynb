{
 "cells": [
  {
   "cell_type": "markdown",
   "metadata": {},
   "source": [
    "# Rusty Bargain machine learning model.\n",
    "---\n",
    "El servicio de venta de autos usados Rusty Bargain está desarrollando una aplicación para atraer nuevos clientes. Gracias a esa app, puedes averiguar rápidamente el valor de mercado de tu coche. Tenemos el acceso al historial: especificaciones técnicas, versiones de equipamiento y precios. Nuestra meta es crear un modelo que determine el valor de mercado.\n",
    "\n",
    "A Rusty Bargain le interesa:\n",
    "- La calidad de la predicción.\n",
    "- La velocidad de la predicción.\n",
    "- El tiempo requerido para el entrenamiento."
   ]
  },
  {
   "cell_type": "markdown",
   "metadata": {},
   "source": [
    "## Preparación de datos"
   ]
  },
  {
   "cell_type": "code",
   "execution_count": 1,
   "metadata": {},
   "outputs": [],
   "source": [
    "import pandas as pd\n",
    "import numpy as np\n",
    "from matplotlib import pyplot as plt\n",
    "import seaborn as sns\n",
    "sns.set()\n",
    "\n",
    "from sklearn.model_selection import train_test_split\n",
    "from sklearn.preprocessing import StandardScaler\n",
    "from sklearn.model_selection import GridSearchCV\n",
    "\n",
    "from sklearn.metrics import mean_squared_error\n",
    "from sklearn.metrics import roc_auc_score\n",
    "\n",
    "from sklearn.linear_model import LinearRegression\n",
    "from sklearn.ensemble import RandomForestRegressor\n",
    "import lightgbm as lgb\n",
    "from catboost import CatBoostRegressor"
   ]
  },
  {
   "cell_type": "code",
   "execution_count": 2,
   "metadata": {},
   "outputs": [],
   "source": [
    "df = pd.read_csv(r'C:\\Users\\luisP\\Downloads\\car_data.csv')"
   ]
  },
  {
   "cell_type": "code",
   "execution_count": 3,
   "metadata": {},
   "outputs": [
    {
     "name": "stdout",
     "output_type": "stream",
     "text": [
      "<class 'pandas.core.frame.DataFrame'>\n",
      "RangeIndex: 354369 entries, 0 to 354368\n",
      "Data columns (total 16 columns):\n",
      " #   Column             Non-Null Count   Dtype \n",
      "---  ------             --------------   ----- \n",
      " 0   DateCrawled        354369 non-null  object\n",
      " 1   Price              354369 non-null  int64 \n",
      " 2   VehicleType        316879 non-null  object\n",
      " 3   RegistrationYear   354369 non-null  int64 \n",
      " 4   Gearbox            334536 non-null  object\n",
      " 5   Power              354369 non-null  int64 \n",
      " 6   Model              334664 non-null  object\n",
      " 7   Mileage            354369 non-null  int64 \n",
      " 8   RegistrationMonth  354369 non-null  int64 \n",
      " 9   FuelType           321474 non-null  object\n",
      " 10  Brand              354369 non-null  object\n",
      " 11  NotRepaired        283215 non-null  object\n",
      " 12  DateCreated        354369 non-null  object\n",
      " 13  NumberOfPictures   354369 non-null  int64 \n",
      " 14  PostalCode         354369 non-null  int64 \n",
      " 15  LastSeen           354369 non-null  object\n",
      "dtypes: int64(7), object(9)\n",
      "memory usage: 43.3+ MB\n"
     ]
    }
   ],
   "source": [
    "df.info()"
   ]
  },
  {
   "cell_type": "code",
   "execution_count": 4,
   "metadata": {},
   "outputs": [
    {
     "data": {
      "text/html": [
       "<div>\n",
       "<style scoped>\n",
       "    .dataframe tbody tr th:only-of-type {\n",
       "        vertical-align: middle;\n",
       "    }\n",
       "\n",
       "    .dataframe tbody tr th {\n",
       "        vertical-align: top;\n",
       "    }\n",
       "\n",
       "    .dataframe thead th {\n",
       "        text-align: right;\n",
       "    }\n",
       "</style>\n",
       "<table border=\"1\" class=\"dataframe\">\n",
       "  <thead>\n",
       "    <tr style=\"text-align: right;\">\n",
       "      <th></th>\n",
       "      <th>DateCrawled</th>\n",
       "      <th>Price</th>\n",
       "      <th>VehicleType</th>\n",
       "      <th>RegistrationYear</th>\n",
       "      <th>Gearbox</th>\n",
       "      <th>Power</th>\n",
       "      <th>Model</th>\n",
       "      <th>Mileage</th>\n",
       "      <th>RegistrationMonth</th>\n",
       "      <th>FuelType</th>\n",
       "      <th>Brand</th>\n",
       "      <th>NotRepaired</th>\n",
       "      <th>DateCreated</th>\n",
       "      <th>NumberOfPictures</th>\n",
       "      <th>PostalCode</th>\n",
       "      <th>LastSeen</th>\n",
       "    </tr>\n",
       "  </thead>\n",
       "  <tbody>\n",
       "    <tr>\n",
       "      <th>0</th>\n",
       "      <td>24/03/2016 11:52</td>\n",
       "      <td>480</td>\n",
       "      <td>NaN</td>\n",
       "      <td>1993</td>\n",
       "      <td>manual</td>\n",
       "      <td>0</td>\n",
       "      <td>golf</td>\n",
       "      <td>150000</td>\n",
       "      <td>0</td>\n",
       "      <td>petrol</td>\n",
       "      <td>volkswagen</td>\n",
       "      <td>NaN</td>\n",
       "      <td>24/03/2016 00:00</td>\n",
       "      <td>0</td>\n",
       "      <td>70435</td>\n",
       "      <td>07/04/2016 03:16</td>\n",
       "    </tr>\n",
       "    <tr>\n",
       "      <th>1</th>\n",
       "      <td>24/03/2016 10:58</td>\n",
       "      <td>18300</td>\n",
       "      <td>coupe</td>\n",
       "      <td>2011</td>\n",
       "      <td>manual</td>\n",
       "      <td>190</td>\n",
       "      <td>NaN</td>\n",
       "      <td>125000</td>\n",
       "      <td>5</td>\n",
       "      <td>gasoline</td>\n",
       "      <td>audi</td>\n",
       "      <td>yes</td>\n",
       "      <td>24/03/2016 00:00</td>\n",
       "      <td>0</td>\n",
       "      <td>66954</td>\n",
       "      <td>07/04/2016 01:46</td>\n",
       "    </tr>\n",
       "    <tr>\n",
       "      <th>2</th>\n",
       "      <td>14/03/2016 12:52</td>\n",
       "      <td>9800</td>\n",
       "      <td>suv</td>\n",
       "      <td>2004</td>\n",
       "      <td>auto</td>\n",
       "      <td>163</td>\n",
       "      <td>grand</td>\n",
       "      <td>125000</td>\n",
       "      <td>8</td>\n",
       "      <td>gasoline</td>\n",
       "      <td>jeep</td>\n",
       "      <td>NaN</td>\n",
       "      <td>14/03/2016 00:00</td>\n",
       "      <td>0</td>\n",
       "      <td>90480</td>\n",
       "      <td>05/04/2016 12:47</td>\n",
       "    </tr>\n",
       "    <tr>\n",
       "      <th>3</th>\n",
       "      <td>17/03/2016 16:54</td>\n",
       "      <td>1500</td>\n",
       "      <td>small</td>\n",
       "      <td>2001</td>\n",
       "      <td>manual</td>\n",
       "      <td>75</td>\n",
       "      <td>golf</td>\n",
       "      <td>150000</td>\n",
       "      <td>6</td>\n",
       "      <td>petrol</td>\n",
       "      <td>volkswagen</td>\n",
       "      <td>no</td>\n",
       "      <td>17/03/2016 00:00</td>\n",
       "      <td>0</td>\n",
       "      <td>91074</td>\n",
       "      <td>17/03/2016 17:40</td>\n",
       "    </tr>\n",
       "    <tr>\n",
       "      <th>4</th>\n",
       "      <td>31/03/2016 17:25</td>\n",
       "      <td>3600</td>\n",
       "      <td>small</td>\n",
       "      <td>2008</td>\n",
       "      <td>manual</td>\n",
       "      <td>69</td>\n",
       "      <td>fabia</td>\n",
       "      <td>90000</td>\n",
       "      <td>7</td>\n",
       "      <td>gasoline</td>\n",
       "      <td>skoda</td>\n",
       "      <td>no</td>\n",
       "      <td>31/03/2016 00:00</td>\n",
       "      <td>0</td>\n",
       "      <td>60437</td>\n",
       "      <td>06/04/2016 10:17</td>\n",
       "    </tr>\n",
       "  </tbody>\n",
       "</table>\n",
       "</div>"
      ],
      "text/plain": [
       "        DateCrawled  Price VehicleType  RegistrationYear Gearbox  Power  \\\n",
       "0  24/03/2016 11:52    480         NaN              1993  manual      0   \n",
       "1  24/03/2016 10:58  18300       coupe              2011  manual    190   \n",
       "2  14/03/2016 12:52   9800         suv              2004    auto    163   \n",
       "3  17/03/2016 16:54   1500       small              2001  manual     75   \n",
       "4  31/03/2016 17:25   3600       small              2008  manual     69   \n",
       "\n",
       "   Model  Mileage  RegistrationMonth  FuelType       Brand NotRepaired  \\\n",
       "0   golf   150000                  0    petrol  volkswagen         NaN   \n",
       "1    NaN   125000                  5  gasoline        audi         yes   \n",
       "2  grand   125000                  8  gasoline        jeep         NaN   \n",
       "3   golf   150000                  6    petrol  volkswagen          no   \n",
       "4  fabia    90000                  7  gasoline       skoda          no   \n",
       "\n",
       "        DateCreated  NumberOfPictures  PostalCode          LastSeen  \n",
       "0  24/03/2016 00:00                 0       70435  07/04/2016 03:16  \n",
       "1  24/03/2016 00:00                 0       66954  07/04/2016 01:46  \n",
       "2  14/03/2016 00:00                 0       90480  05/04/2016 12:47  \n",
       "3  17/03/2016 00:00                 0       91074  17/03/2016 17:40  \n",
       "4  31/03/2016 00:00                 0       60437  06/04/2016 10:17  "
      ]
     },
     "execution_count": 4,
     "metadata": {},
     "output_type": "execute_result"
    }
   ],
   "source": [
    "df.head()"
   ]
  },
  {
   "cell_type": "markdown",
   "metadata": {},
   "source": [
    "### Análisis visual de los datos.\n",
    "---\n",
    "En esta sección entenderemos un poco los datos, veremos si existen patrones y tendencias, así como también valores atípicos. "
   ]
  },
  {
   "cell_type": "code",
   "execution_count": 5,
   "metadata": {},
   "outputs": [
    {
     "data": {
      "image/png": "[encoded data removed]",
      "text/plain": [
       "<Figure size 640x480 with 1 Axes>"
      ]
     },
     "metadata": {},
     "output_type": "display_data"
    }
   ],
   "source": [
    "best_brands = df.groupby('Brand')['Brand'].count().sort_values(ascending=False).head(10)\n",
    "\n",
    "best_brands.plot(kind=\"bar\",x=\"Brand\",\n",
    "                            title=\"Top 10 brands\",ylabel=\"Number of cars\",xlabel=\"Brand\")\n",
    "plt.show()"
   ]
  },
  {
   "cell_type": "code",
   "execution_count": 6,
   "metadata": {},
   "outputs": [
    {
     "data": {
      "text/plain": [
       "<Axes: xlabel='RegistrationYear'>"
      ]
     },
     "execution_count": 6,
     "metadata": {},
     "output_type": "execute_result"
    },
    {
     "data": {
      "image/png": "[encoded data removed]",
      "text/plain": [
       "<Figure size 640x480 with 1 Axes>"
      ]
     },
     "metadata": {},
     "output_type": "display_data"
    }
   ],
   "source": [
    "sns.boxplot(x=df['RegistrationYear'])"
   ]
  },
  {
   "cell_type": "code",
   "execution_count": 7,
   "metadata": {},
   "outputs": [
    {
     "data": {
      "text/plain": [
       "<Axes: xlabel='Power'>"
      ]
     },
     "execution_count": 7,
     "metadata": {},
     "output_type": "execute_result"
    },
    {
     "data": {
      "image/png": "[encoded data removed]",
      "text/plain": [
       "<Figure size 640x480 with 1 Axes>"
      ]
     },
     "metadata": {},
     "output_type": "display_data"
    }
   ],
   "source": [
    "sns.boxplot(x=df['Power'])"
   ]
  },
  {
   "cell_type": "markdown",
   "metadata": {},
   "source": [
    "Vemos que estamos ante un dataframe con bastantes valores atípicos. "
   ]
  },
  {
   "cell_type": "markdown",
   "metadata": {},
   "source": [
    "### Eliminación de columnas innecesarias.\n",
    "---\n",
    "Tenemos un dataset con muchos datos nulos y columnas que, en mi opinión, no aportan información relevante para determinar el precio final de un vehículo. Vamos a arreglarlo."
   ]
  },
  {
   "cell_type": "code",
   "execution_count": 8,
   "metadata": {},
   "outputs": [
    {
     "data": {
      "text/html": [
       "<div>\n",
       "<style scoped>\n",
       "    .dataframe tbody tr th:only-of-type {\n",
       "        vertical-align: middle;\n",
       "    }\n",
       "\n",
       "    .dataframe tbody tr th {\n",
       "        vertical-align: top;\n",
       "    }\n",
       "\n",
       "    .dataframe thead th {\n",
       "        text-align: right;\n",
       "    }\n",
       "</style>\n",
       "<table border=\"1\" class=\"dataframe\">\n",
       "  <thead>\n",
       "    <tr style=\"text-align: right;\">\n",
       "      <th></th>\n",
       "      <th>Price</th>\n",
       "      <th>VehicleType</th>\n",
       "      <th>RegistrationYear</th>\n",
       "      <th>Gearbox</th>\n",
       "      <th>Power</th>\n",
       "      <th>Model</th>\n",
       "      <th>Mileage</th>\n",
       "      <th>RegistrationMonth</th>\n",
       "      <th>FuelType</th>\n",
       "      <th>Brand</th>\n",
       "      <th>NotRepaired</th>\n",
       "    </tr>\n",
       "  </thead>\n",
       "  <tbody>\n",
       "    <tr>\n",
       "      <th>0</th>\n",
       "      <td>480</td>\n",
       "      <td>NaN</td>\n",
       "      <td>1993</td>\n",
       "      <td>manual</td>\n",
       "      <td>0</td>\n",
       "      <td>golf</td>\n",
       "      <td>150000</td>\n",
       "      <td>0</td>\n",
       "      <td>petrol</td>\n",
       "      <td>volkswagen</td>\n",
       "      <td>NaN</td>\n",
       "    </tr>\n",
       "    <tr>\n",
       "      <th>1</th>\n",
       "      <td>18300</td>\n",
       "      <td>coupe</td>\n",
       "      <td>2011</td>\n",
       "      <td>manual</td>\n",
       "      <td>190</td>\n",
       "      <td>NaN</td>\n",
       "      <td>125000</td>\n",
       "      <td>5</td>\n",
       "      <td>gasoline</td>\n",
       "      <td>audi</td>\n",
       "      <td>yes</td>\n",
       "    </tr>\n",
       "    <tr>\n",
       "      <th>2</th>\n",
       "      <td>9800</td>\n",
       "      <td>suv</td>\n",
       "      <td>2004</td>\n",
       "      <td>auto</td>\n",
       "      <td>163</td>\n",
       "      <td>grand</td>\n",
       "      <td>125000</td>\n",
       "      <td>8</td>\n",
       "      <td>gasoline</td>\n",
       "      <td>jeep</td>\n",
       "      <td>NaN</td>\n",
       "    </tr>\n",
       "    <tr>\n",
       "      <th>3</th>\n",
       "      <td>1500</td>\n",
       "      <td>small</td>\n",
       "      <td>2001</td>\n",
       "      <td>manual</td>\n",
       "      <td>75</td>\n",
       "      <td>golf</td>\n",
       "      <td>150000</td>\n",
       "      <td>6</td>\n",
       "      <td>petrol</td>\n",
       "      <td>volkswagen</td>\n",
       "      <td>no</td>\n",
       "    </tr>\n",
       "    <tr>\n",
       "      <th>4</th>\n",
       "      <td>3600</td>\n",
       "      <td>small</td>\n",
       "      <td>2008</td>\n",
       "      <td>manual</td>\n",
       "      <td>69</td>\n",
       "      <td>fabia</td>\n",
       "      <td>90000</td>\n",
       "      <td>7</td>\n",
       "      <td>gasoline</td>\n",
       "      <td>skoda</td>\n",
       "      <td>no</td>\n",
       "    </tr>\n",
       "  </tbody>\n",
       "</table>\n",
       "</div>"
      ],
      "text/plain": [
       "   Price VehicleType  RegistrationYear Gearbox  Power  Model  Mileage  \\\n",
       "0    480         NaN              1993  manual      0   golf   150000   \n",
       "1  18300       coupe              2011  manual    190    NaN   125000   \n",
       "2   9800         suv              2004    auto    163  grand   125000   \n",
       "3   1500       small              2001  manual     75   golf   150000   \n",
       "4   3600       small              2008  manual     69  fabia    90000   \n",
       "\n",
       "   RegistrationMonth  FuelType       Brand NotRepaired  \n",
       "0                  0    petrol  volkswagen         NaN  \n",
       "1                  5  gasoline        audi         yes  \n",
       "2                  8  gasoline        jeep         NaN  \n",
       "3                  6    petrol  volkswagen          no  \n",
       "4                  7  gasoline       skoda          no  "
      ]
     },
     "execution_count": 8,
     "metadata": {},
     "output_type": "execute_result"
    }
   ],
   "source": [
    "trash = ['DateCrawled', 'DateCreated', 'NumberOfPictures', 'LastSeen', 'PostalCode']\n",
    "\n",
    "df = df.drop(trash, axis=1)\n",
    "df.head()"
   ]
  },
  {
   "cell_type": "markdown",
   "metadata": {},
   "source": [
    "### Tratamiento para datos ausentes. \n",
    "---\n",
    "Tenemos diferentes columnas con demasiados datos nulos, veo positivo que no fue ninguna variable numerica. Lo que yo considero adecuado seria sustituir los valores por 'Unknown'. Este valor seria codificado mas adelante. "
   ]
  },
  {
   "cell_type": "code",
   "execution_count": 9,
   "metadata": {},
   "outputs": [
    {
     "data": {
      "text/plain": [
       "Price                    0\n",
       "VehicleType          37490\n",
       "RegistrationYear         0\n",
       "Gearbox              19833\n",
       "Power                    0\n",
       "Model                19705\n",
       "Mileage                  0\n",
       "RegistrationMonth        0\n",
       "FuelType             32895\n",
       "Brand                    0\n",
       "NotRepaired          71154\n",
       "dtype: int64"
      ]
     },
     "execution_count": 9,
     "metadata": {},
     "output_type": "execute_result"
    }
   ],
   "source": [
    "df.isna().sum()"
   ]
  },
  {
   "cell_type": "code",
   "execution_count": 10,
   "metadata": {},
   "outputs": [
    {
     "data": {
      "text/html": [
       "<div>\n",
       "<style scoped>\n",
       "    .dataframe tbody tr th:only-of-type {\n",
       "        vertical-align: middle;\n",
       "    }\n",
       "\n",
       "    .dataframe tbody tr th {\n",
       "        vertical-align: top;\n",
       "    }\n",
       "\n",
       "    .dataframe thead th {\n",
       "        text-align: right;\n",
       "    }\n",
       "</style>\n",
       "<table border=\"1\" class=\"dataframe\">\n",
       "  <thead>\n",
       "    <tr style=\"text-align: right;\">\n",
       "      <th></th>\n",
       "      <th>Price</th>\n",
       "      <th>VehicleType</th>\n",
       "      <th>RegistrationYear</th>\n",
       "      <th>Gearbox</th>\n",
       "      <th>Power</th>\n",
       "      <th>Model</th>\n",
       "      <th>Mileage</th>\n",
       "      <th>RegistrationMonth</th>\n",
       "      <th>FuelType</th>\n",
       "      <th>Brand</th>\n",
       "      <th>NotRepaired</th>\n",
       "    </tr>\n",
       "  </thead>\n",
       "  <tbody>\n",
       "    <tr>\n",
       "      <th>0</th>\n",
       "      <td>480</td>\n",
       "      <td>unknown</td>\n",
       "      <td>1993</td>\n",
       "      <td>manual</td>\n",
       "      <td>0</td>\n",
       "      <td>golf</td>\n",
       "      <td>150000</td>\n",
       "      <td>0</td>\n",
       "      <td>petrol</td>\n",
       "      <td>volkswagen</td>\n",
       "      <td>unknown</td>\n",
       "    </tr>\n",
       "    <tr>\n",
       "      <th>1</th>\n",
       "      <td>18300</td>\n",
       "      <td>coupe</td>\n",
       "      <td>2011</td>\n",
       "      <td>manual</td>\n",
       "      <td>190</td>\n",
       "      <td>unknown</td>\n",
       "      <td>125000</td>\n",
       "      <td>5</td>\n",
       "      <td>gasoline</td>\n",
       "      <td>audi</td>\n",
       "      <td>yes</td>\n",
       "    </tr>\n",
       "    <tr>\n",
       "      <th>2</th>\n",
       "      <td>9800</td>\n",
       "      <td>suv</td>\n",
       "      <td>2004</td>\n",
       "      <td>auto</td>\n",
       "      <td>163</td>\n",
       "      <td>grand</td>\n",
       "      <td>125000</td>\n",
       "      <td>8</td>\n",
       "      <td>gasoline</td>\n",
       "      <td>jeep</td>\n",
       "      <td>unknown</td>\n",
       "    </tr>\n",
       "    <tr>\n",
       "      <th>3</th>\n",
       "      <td>1500</td>\n",
       "      <td>small</td>\n",
       "      <td>2001</td>\n",
       "      <td>manual</td>\n",
       "      <td>75</td>\n",
       "      <td>golf</td>\n",
       "      <td>150000</td>\n",
       "      <td>6</td>\n",
       "      <td>petrol</td>\n",
       "      <td>volkswagen</td>\n",
       "      <td>no</td>\n",
       "    </tr>\n",
       "    <tr>\n",
       "      <th>4</th>\n",
       "      <td>3600</td>\n",
       "      <td>small</td>\n",
       "      <td>2008</td>\n",
       "      <td>manual</td>\n",
       "      <td>69</td>\n",
       "      <td>fabia</td>\n",
       "      <td>90000</td>\n",
       "      <td>7</td>\n",
       "      <td>gasoline</td>\n",
       "      <td>skoda</td>\n",
       "      <td>no</td>\n",
       "    </tr>\n",
       "  </tbody>\n",
       "</table>\n",
       "</div>"
      ],
      "text/plain": [
       "   Price VehicleType  RegistrationYear Gearbox  Power    Model  Mileage  \\\n",
       "0    480     unknown              1993  manual      0     golf   150000   \n",
       "1  18300       coupe              2011  manual    190  unknown   125000   \n",
       "2   9800         suv              2004    auto    163    grand   125000   \n",
       "3   1500       small              2001  manual     75     golf   150000   \n",
       "4   3600       small              2008  manual     69    fabia    90000   \n",
       "\n",
       "   RegistrationMonth  FuelType       Brand NotRepaired  \n",
       "0                  0    petrol  volkswagen     unknown  \n",
       "1                  5  gasoline        audi         yes  \n",
       "2                  8  gasoline        jeep     unknown  \n",
       "3                  6    petrol  volkswagen          no  \n",
       "4                  7  gasoline       skoda          no  "
      ]
     },
     "execution_count": 10,
     "metadata": {},
     "output_type": "execute_result"
    }
   ],
   "source": [
    "df_1 = df.fillna('unknown')\n",
    "df_1.head()"
   ]
  },
  {
   "cell_type": "markdown",
   "metadata": {},
   "source": [
    "### Codificación.\n",
    "---\n",
    "El método One-Hot es uno de los mas conocidos, pero en este proyecto me gustaría implementar una técnica diferente. Voy a sustituir el valor categórico por la frecuencia, es decir, el numero de veces que se repite.  La finalidad de esto es disminuir el numero de columnas que el método One-Hot crearía, lo que afectaría al rendimiento del modelo. "
   ]
  },
  {
   "cell_type": "code",
   "execution_count": 11,
   "metadata": {},
   "outputs": [
    {
     "data": {
      "text/html": [
       "<div>\n",
       "<style scoped>\n",
       "    .dataframe tbody tr th:only-of-type {\n",
       "        vertical-align: middle;\n",
       "    }\n",
       "\n",
       "    .dataframe tbody tr th {\n",
       "        vertical-align: top;\n",
       "    }\n",
       "\n",
       "    .dataframe thead th {\n",
       "        text-align: right;\n",
       "    }\n",
       "</style>\n",
       "<table border=\"1\" class=\"dataframe\">\n",
       "  <thead>\n",
       "    <tr style=\"text-align: right;\">\n",
       "      <th></th>\n",
       "      <th>Price</th>\n",
       "      <th>VehicleType</th>\n",
       "      <th>RegistrationYear</th>\n",
       "      <th>Gearbox</th>\n",
       "      <th>Power</th>\n",
       "      <th>Model</th>\n",
       "      <th>Mileage</th>\n",
       "      <th>RegistrationMonth</th>\n",
       "      <th>FuelType</th>\n",
       "      <th>Brand</th>\n",
       "      <th>NotRepaired</th>\n",
       "    </tr>\n",
       "  </thead>\n",
       "  <tbody>\n",
       "    <tr>\n",
       "      <th>0</th>\n",
       "      <td>480</td>\n",
       "      <td>37490</td>\n",
       "      <td>1993</td>\n",
       "      <td>268251</td>\n",
       "      <td>0</td>\n",
       "      <td>29232</td>\n",
       "      <td>150000</td>\n",
       "      <td>0</td>\n",
       "      <td>216352</td>\n",
       "      <td>77013</td>\n",
       "      <td>71154</td>\n",
       "    </tr>\n",
       "    <tr>\n",
       "      <th>1</th>\n",
       "      <td>18300</td>\n",
       "      <td>16163</td>\n",
       "      <td>2011</td>\n",
       "      <td>268251</td>\n",
       "      <td>190</td>\n",
       "      <td>19705</td>\n",
       "      <td>125000</td>\n",
       "      <td>5</td>\n",
       "      <td>98720</td>\n",
       "      <td>29456</td>\n",
       "      <td>36054</td>\n",
       "    </tr>\n",
       "    <tr>\n",
       "      <th>2</th>\n",
       "      <td>9800</td>\n",
       "      <td>11996</td>\n",
       "      <td>2004</td>\n",
       "      <td>66285</td>\n",
       "      <td>163</td>\n",
       "      <td>561</td>\n",
       "      <td>125000</td>\n",
       "      <td>8</td>\n",
       "      <td>98720</td>\n",
       "      <td>677</td>\n",
       "      <td>71154</td>\n",
       "    </tr>\n",
       "    <tr>\n",
       "      <th>3</th>\n",
       "      <td>1500</td>\n",
       "      <td>79831</td>\n",
       "      <td>2001</td>\n",
       "      <td>268251</td>\n",
       "      <td>75</td>\n",
       "      <td>29232</td>\n",
       "      <td>150000</td>\n",
       "      <td>6</td>\n",
       "      <td>216352</td>\n",
       "      <td>77013</td>\n",
       "      <td>247161</td>\n",
       "    </tr>\n",
       "    <tr>\n",
       "      <th>4</th>\n",
       "      <td>3600</td>\n",
       "      <td>79831</td>\n",
       "      <td>2008</td>\n",
       "      <td>268251</td>\n",
       "      <td>69</td>\n",
       "      <td>2080</td>\n",
       "      <td>90000</td>\n",
       "      <td>7</td>\n",
       "      <td>98720</td>\n",
       "      <td>5500</td>\n",
       "      <td>247161</td>\n",
       "    </tr>\n",
       "  </tbody>\n",
       "</table>\n",
       "</div>"
      ],
      "text/plain": [
       "   Price  VehicleType  RegistrationYear  Gearbox  Power  Model  Mileage  \\\n",
       "0    480        37490              1993   268251      0  29232   150000   \n",
       "1  18300        16163              2011   268251    190  19705   125000   \n",
       "2   9800        11996              2004    66285    163    561   125000   \n",
       "3   1500        79831              2001   268251     75  29232   150000   \n",
       "4   3600        79831              2008   268251     69   2080    90000   \n",
       "\n",
       "   RegistrationMonth  FuelType  Brand  NotRepaired  \n",
       "0                  0    216352  77013        71154  \n",
       "1                  5     98720  29456        36054  \n",
       "2                  8     98720    677        71154  \n",
       "3                  6    216352  77013       247161  \n",
       "4                  7     98720   5500       247161  "
      ]
     },
     "execution_count": 11,
     "metadata": {},
     "output_type": "execute_result"
    }
   ],
   "source": [
    "cat_col = ['VehicleType', 'Gearbox', 'Model', 'FuelType', 'Brand', 'NotRepaired']\n",
    "\n",
    "for cat in cat_col:\n",
    "    df[cat] = df_1.groupby(cat)[cat].transform('count')\n",
    "    \n",
    "df.head()"
   ]
  },
  {
   "cell_type": "code",
   "execution_count": 12,
   "metadata": {},
   "outputs": [
    {
     "data": {
      "text/plain": [
       "((354369,), (354369, 10))"
      ]
     },
     "execution_count": 12,
     "metadata": {},
     "output_type": "execute_result"
    }
   ],
   "source": [
    "target = df['Price']\n",
    "features = df.drop('Price', axis=1)\n",
    "\n",
    "target.shape, features.shape"
   ]
  },
  {
   "cell_type": "markdown",
   "metadata": {},
   "source": [
    " ### Escalado y estandarización de características.\n",
    " ---\n",
    "Debido a las distintas frecuencias vemos que cada columna tiene su propio rango, esto podría confundir al modelo a la hora de entrenarlo, por ello vamos a estandarizar todas las características para prevenir que se asignen pesos y afecte nuestras predicciones. "
   ]
  },
  {
   "cell_type": "code",
   "execution_count": 13,
   "metadata": {},
   "outputs": [
    {
     "name": "stdout",
     "output_type": "stream",
     "text": [
      "VehicleType: minimo = 3288, maximo = 91457\n",
      "RegistrationYear: minimo = 1000, maximo = 9999\n",
      "Gearbox: minimo = 19833, maximo = 268251\n",
      "Power: minimo = 0, maximo = 20000\n",
      "Model: minimo = 2, maximo = 29232\n",
      "Mileage: minimo = 5000, maximo = 150000\n",
      "RegistrationMonth: minimo = 0, maximo = 12\n",
      "FuelType: minimo = 90, maximo = 216352\n",
      "Brand: minimo = 225, maximo = 77013\n",
      "NotRepaired: minimo = 36054, maximo = 247161\n"
     ]
    }
   ],
   "source": [
    "columns = features.columns\n",
    "for col in features[columns]:\n",
    "    minimo = features[col].min()\n",
    "    maximo = features[col].max()\n",
    "    print(f\"{col}: minimo = {minimo}, maximo = {maximo}\")"
   ]
  },
  {
   "cell_type": "code",
   "execution_count": 14,
   "metadata": {},
   "outputs": [
    {
     "data": {
      "text/html": [
       "<div>\n",
       "<style scoped>\n",
       "    .dataframe tbody tr th:only-of-type {\n",
       "        vertical-align: middle;\n",
       "    }\n",
       "\n",
       "    .dataframe tbody tr th {\n",
       "        vertical-align: top;\n",
       "    }\n",
       "\n",
       "    .dataframe thead th {\n",
       "        text-align: right;\n",
       "    }\n",
       "</style>\n",
       "<table border=\"1\" class=\"dataframe\">\n",
       "  <thead>\n",
       "    <tr style=\"text-align: right;\">\n",
       "      <th></th>\n",
       "      <th>VehicleType</th>\n",
       "      <th>RegistrationYear</th>\n",
       "      <th>Gearbox</th>\n",
       "      <th>Power</th>\n",
       "      <th>Model</th>\n",
       "      <th>Mileage</th>\n",
       "      <th>RegistrationMonth</th>\n",
       "      <th>FuelType</th>\n",
       "      <th>Brand</th>\n",
       "      <th>NotRepaired</th>\n",
       "    </tr>\n",
       "  </thead>\n",
       "  <tbody>\n",
       "    <tr>\n",
       "      <th>0</th>\n",
       "      <td>-0.894770</td>\n",
       "      <td>-0.124512</td>\n",
       "      <td>0.563461</td>\n",
       "      <td>-0.579901</td>\n",
       "      <td>2.071540</td>\n",
       "      <td>0.574823</td>\n",
       "      <td>-1.533550</td>\n",
       "      <td>0.764998</td>\n",
       "      <td>1.662034</td>\n",
       "      <td>-1.373884</td>\n",
       "    </tr>\n",
       "    <tr>\n",
       "      <th>1</th>\n",
       "      <td>-1.667053</td>\n",
       "      <td>0.074983</td>\n",
       "      <td>0.563461</td>\n",
       "      <td>0.420888</td>\n",
       "      <td>1.050306</td>\n",
       "      <td>-0.084716</td>\n",
       "      <td>-0.191778</td>\n",
       "      <td>-0.913027</td>\n",
       "      <td>-0.200203</td>\n",
       "      <td>-1.778483</td>\n",
       "    </tr>\n",
       "    <tr>\n",
       "      <th>2</th>\n",
       "      <td>-1.817946</td>\n",
       "      <td>-0.002598</td>\n",
       "      <td>-1.638502</td>\n",
       "      <td>0.278671</td>\n",
       "      <td>-1.001809</td>\n",
       "      <td>-0.084716</td>\n",
       "      <td>0.613285</td>\n",
       "      <td>-0.913027</td>\n",
       "      <td>-1.327130</td>\n",
       "      <td>-1.373884</td>\n",
       "    </tr>\n",
       "    <tr>\n",
       "      <th>3</th>\n",
       "      <td>0.638460</td>\n",
       "      <td>-0.035848</td>\n",
       "      <td>0.563461</td>\n",
       "      <td>-0.184853</td>\n",
       "      <td>2.071540</td>\n",
       "      <td>0.574823</td>\n",
       "      <td>0.076576</td>\n",
       "      <td>0.764998</td>\n",
       "      <td>1.662034</td>\n",
       "      <td>0.654953</td>\n",
       "    </tr>\n",
       "    <tr>\n",
       "      <th>4</th>\n",
       "      <td>0.638460</td>\n",
       "      <td>0.041734</td>\n",
       "      <td>0.563461</td>\n",
       "      <td>-0.216457</td>\n",
       "      <td>-0.838982</td>\n",
       "      <td>-1.008070</td>\n",
       "      <td>0.344931</td>\n",
       "      <td>-0.913027</td>\n",
       "      <td>-1.138271</td>\n",
       "      <td>0.654953</td>\n",
       "    </tr>\n",
       "  </tbody>\n",
       "</table>\n",
       "</div>"
      ],
      "text/plain": [
       "   VehicleType  RegistrationYear   Gearbox     Power     Model   Mileage  \\\n",
       "0    -0.894770         -0.124512  0.563461 -0.579901  2.071540  0.574823   \n",
       "1    -1.667053          0.074983  0.563461  0.420888  1.050306 -0.084716   \n",
       "2    -1.817946         -0.002598 -1.638502  0.278671 -1.001809 -0.084716   \n",
       "3     0.638460         -0.035848  0.563461 -0.184853  2.071540  0.574823   \n",
       "4     0.638460          0.041734  0.563461 -0.216457 -0.838982 -1.008070   \n",
       "\n",
       "   RegistrationMonth  FuelType     Brand  NotRepaired  \n",
       "0          -1.533550  0.764998  1.662034    -1.373884  \n",
       "1          -0.191778 -0.913027 -0.200203    -1.778483  \n",
       "2           0.613285 -0.913027 -1.327130    -1.373884  \n",
       "3           0.076576  0.764998  1.662034     0.654953  \n",
       "4           0.344931 -0.913027 -1.138271     0.654953  "
      ]
     },
     "execution_count": 14,
     "metadata": {},
     "output_type": "execute_result"
    }
   ],
   "source": [
    "pd.options.mode.chained_assignment = None\n",
    "\n",
    "scaler = StandardScaler()\n",
    "scaler.fit(features[columns])\n",
    "\n",
    "features[columns] = scaler.transform(features[columns])\n",
    "features.head()"
   ]
  },
  {
   "cell_type": "markdown",
   "metadata": {},
   "source": [
    "### Creación de datasets para entrenamiento y validación. \n",
    "---\n",
    "Vamos a separar los datos que utilizaremos para entrenar y validar los distintos modelos. Voy a aprovechar para convertir los datasets en matrices para que el proceso sea mas eficiente. "
   ]
  },
  {
   "cell_type": "code",
   "execution_count": 15,
   "metadata": {},
   "outputs": [
    {
     "data": {
      "text/plain": [
       "((212621, 10), (70874, 10), (70874, 10))"
      ]
     },
     "execution_count": 15,
     "metadata": {},
     "output_type": "execute_result"
    }
   ],
   "source": [
    "features_train, sub_features, target_train, sub_target = train_test_split(\n",
    "    features, target, test_size=0.40, random_state=12345)\n",
    "\n",
    "features_valid, features_test, target_valid, target_test = train_test_split(\n",
    "    sub_features, sub_target, test_size=0.50, random_state=12345)\n",
    "\n",
    "X_train = np.array(features_train)\n",
    "X_valid = np.array(features_valid)\n",
    "X_test = np.array(features_test)\n",
    "\n",
    "Y_train = np.array(target_train)\n",
    "Y_valid = np.array(target_valid)\n",
    "Y_test = np.array(target_test)\n",
    "\n",
    "X_train.shape, X_valid.shape, X_test.shape"
   ]
  },
  {
   "cell_type": "markdown",
   "metadata": {},
   "source": [
    "## Entrenamiento de modelos"
   ]
  },
  {
   "cell_type": "markdown",
   "metadata": {},
   "source": [
    "### Modelo 1:  Linear Regression. "
   ]
  },
  {
   "cell_type": "code",
   "execution_count": 16,
   "metadata": {},
   "outputs": [
    {
     "name": "stdout",
     "output_type": "stream",
     "text": [
      "RECM del modelo de regresión lineal con el conjunto de validación: 3811.6044780999255\n",
      "CPU times: total: 172 ms\n",
      "Wall time: 144 ms\n"
     ]
    },
    {
     "name": "stderr",
     "output_type": "stream",
     "text": [
      "c:\\Users\\luisP\\AppData\\Local\\Programs\\Python\\Python312\\Lib\\site-packages\\sklearn\\metrics\\_regression.py:492: FutureWarning: 'squared' is deprecated in version 1.4 and will be removed in 1.6. To calculate the root mean squared error, use the function'root_mean_squared_error'.\n",
      "  warnings.warn(\n"
     ]
    }
   ],
   "source": [
    "%%time\n",
    "model_1 = LinearRegression().fit(X_train, Y_train)\n",
    "predictions = model_1.predict(X_valid)\n",
    "\n",
    "error = mean_squared_error(Y_valid, predictions, squared=False)\n",
    "\n",
    "print(\"RECM del modelo de regresión lineal con el conjunto de validación:\", error)"
   ]
  },
  {
   "cell_type": "markdown",
   "metadata": {},
   "source": [
    "### Modelo 2: Random Forest Regressor.\n",
    "---\n",
    "Se muestra un modelo entrenado con bosque aleatorio de regresión, ya vienen ciertos hiperparámetros definidos, pero me gustaría agregar que busque la combinación que nos brindaba el mejor resultado, decidí no incluir el código completo ya que el entrenamiento tardaba demasiado. "
   ]
  },
  {
   "cell_type": "code",
   "execution_count": 17,
   "metadata": {},
   "outputs": [
    {
     "name": "stdout",
     "output_type": "stream",
     "text": [
      "RECM del modelo de bosque aleatorio de regresión con el conjunto de validación: 1978.5817022514525\n",
      "CPU times: total: 34.1 s\n",
      "Wall time: 1min 21s\n"
     ]
    },
    {
     "name": "stderr",
     "output_type": "stream",
     "text": [
      "c:\\Users\\luisP\\AppData\\Local\\Programs\\Python\\Python312\\Lib\\site-packages\\sklearn\\metrics\\_regression.py:492: FutureWarning: 'squared' is deprecated in version 1.4 and will be removed in 1.6. To calculate the root mean squared error, use the function'root_mean_squared_error'.\n",
      "  warnings.warn(\n"
     ]
    }
   ],
   "source": [
    "%%time\n",
    "model_2 = RandomForestRegressor(random_state=54321, n_estimators=90, max_depth=10).fit(X_train, Y_train)\n",
    "predictions = model_2.predict(X_valid)\n",
    "        \n",
    "error = mean_squared_error(Y_valid, predictions, squared=False)\n",
    "print(\"RECM del modelo de bosque aleatorio de regresión con el conjunto de validación:\", error)"
   ]
  },
  {
   "cell_type": "markdown",
   "metadata": {},
   "source": [
    "### Modelo 3: LightGBM."
   ]
  },
  {
   "cell_type": "code",
   "execution_count": 18,
   "metadata": {},
   "outputs": [
    {
     "name": "stdout",
     "output_type": "stream",
     "text": [
      "[LightGBM] [Info] Auto-choosing row-wise multi-threading, the overhead of testing was 0.005777 seconds.\n",
      "You can set `force_row_wise=true` to remove the overhead.\n",
      "And if memory is not enough, you can set `force_col_wise=true`.\n",
      "[LightGBM] [Info] Total Bins 589\n",
      "[LightGBM] [Info] Number of data points in the train set: 212621, number of used features: 10\n",
      "[LightGBM] [Info] Start training from score 4414.475419\n",
      "RECM del modelo LightGBM con el conjunto de validación: 1835.638632154425\n",
      "CPU times: total: 6.27 s\n",
      "Wall time: 1.66 s\n"
     ]
    },
    {
     "name": "stderr",
     "output_type": "stream",
     "text": [
      "c:\\Users\\luisP\\AppData\\Local\\Programs\\Python\\Python312\\Lib\\site-packages\\sklearn\\metrics\\_regression.py:492: FutureWarning: 'squared' is deprecated in version 1.4 and will be removed in 1.6. To calculate the root mean squared error, use the function'root_mean_squared_error'.\n",
      "  warnings.warn(\n"
     ]
    }
   ],
   "source": [
    "%%time\n",
    "model_3 = lgb.LGBMRegressor(metric='rmse')\n",
    "model_3.fit(X_train, Y_train)\n",
    "\n",
    "predictions = model_3.predict(X_valid)\n",
    "        \n",
    "error = mean_squared_error(Y_valid, predictions, squared=False)\n",
    "print(\"RECM del modelo LightGBM con el conjunto de validación:\", error)"
   ]
  },
  {
   "cell_type": "markdown",
   "metadata": {},
   "source": [
    "### Modelo 4: CatBoost."
   ]
  },
  {
   "cell_type": "code",
   "execution_count": 19,
   "metadata": {},
   "outputs": [],
   "source": [
    "#CÓDIGO PARA ENCONTRAR LOS MEJORES HIPERPARÁMETROS. \n",
    "\n",
    "#model = CatBoostRegressor()\n",
    "#parameters = {'depth' : [6,8,10], 'learning_rate':[0.01, 0.05, 0.1], 'iterations':[30, 50, 100]}\n",
    "\n",
    "#grid = GridSearchCV(estimator=model, param_grid = parameters, cv = 2, n_jobs=-1)\n",
    "#grid.fit(X_train, Y_train)\n",
    "\n",
    "#print('Mejores parametros: ', grid.best_params_)"
   ]
  },
  {
   "cell_type": "code",
   "execution_count": 20,
   "metadata": {},
   "outputs": [
    {
     "name": "stdout",
     "output_type": "stream",
     "text": [
      "0:\tlearn: 4203.1988535\ttotal: 227ms\tremaining: 45.2s\n",
      "20:\tlearn: 2158.3866813\ttotal: 1.62s\tremaining: 13.8s\n",
      "40:\tlearn: 1954.2037092\ttotal: 3s\tremaining: 11.6s\n",
      "60:\tlearn: 1880.8594391\ttotal: 4.42s\tremaining: 10.1s\n",
      "80:\tlearn: 1835.7198029\ttotal: 5.78s\tremaining: 8.49s\n",
      "100:\tlearn: 1806.2090576\ttotal: 7.13s\tremaining: 6.99s\n",
      "120:\tlearn: 1777.8625812\ttotal: 8.5s\tremaining: 5.55s\n",
      "140:\tlearn: 1751.4141146\ttotal: 9.86s\tremaining: 4.13s\n",
      "160:\tlearn: 1731.1723045\ttotal: 11.2s\tremaining: 2.72s\n",
      "180:\tlearn: 1711.6808654\ttotal: 12.6s\tremaining: 1.32s\n",
      "199:\tlearn: 1697.3166970\ttotal: 13.9s\tremaining: 0us\n",
      "RECM del modelo CatBoost con el conjunto de validación: 1776.8852775217829\n",
      "CPU times: total: 18.6 s\n",
      "Wall time: 14.3 s\n"
     ]
    },
    {
     "name": "stderr",
     "output_type": "stream",
     "text": [
      "c:\\Users\\luisP\\AppData\\Local\\Programs\\Python\\Python312\\Lib\\site-packages\\sklearn\\metrics\\_regression.py:492: FutureWarning: 'squared' is deprecated in version 1.4 and will be removed in 1.6. To calculate the root mean squared error, use the function'root_mean_squared_error'.\n",
      "  warnings.warn(\n"
     ]
    }
   ],
   "source": [
    "%%time\n",
    "model_4 = CatBoostRegressor(iterations=200,\n",
    "                            learning_rate=0.1,\n",
    "                            depth=10,\n",
    "                            loss_function='RMSE',\n",
    "                            verbose=20)\n",
    "\n",
    "model_4.fit(X_train, Y_train)\n",
    "\n",
    "predictions = model_4.predict(X_valid)\n",
    "        \n",
    "error = mean_squared_error(Y_valid, predictions, squared=False)\n",
    "print(\"RECM del modelo CatBoost con el conjunto de validación:\", error)"
   ]
  },
  {
   "cell_type": "markdown",
   "metadata": {},
   "source": [
    "## Análisis de los modelos."
   ]
  },
  {
   "cell_type": "markdown",
   "metadata": {},
   "source": [
    "Se realizaron 4 modelos y diversas mejoras/correcciones, en base a los resultados se obtuvieron los siguientes conclusiones:\n",
    "\n",
    "•\tSi bien Linear Regression fue el modelo más rápido, su RECM fue el mas alto y por bastante.\n",
    "\n",
    "•\tEl modelo CatBoost nos dio el mejor resultado, y después de entrenarlo con los datos en forma de matrices el tiempo de entrenamiento se redujo significativamente. Sin duda el mejor.\n",
    "\n",
    "•\tPara poder seleccionar los mejores hiperparámetros del modelo Random Forest Reggressor, tuvimos que hacer uso de un bucle for que tardo una exageración para al final darnos un RECM algo elevado. No lo recomendaría. \n",
    "\n",
    "•\tEn lo personal, me quedaría con el modelo de LightGBM, ya que su entrenamiento fue bastante rápido y el error fue bajo. Me gustaría agregar que no utilice un conjunto de hiperparámetros, pero estoy seguro que de haber agregado algunos, el RECM hubiera sido mayor. \n"
   ]
  },
  {
   "cell_type": "markdown",
   "metadata": {},
   "source": [
    "### Prueba del mejor modelo.\n",
    "---\n",
    "Ya que hicimos la comparativa y determinamos el mejor algoritmo, vamos a ver el resultado que obtenemos con el dataset de prueba."
   ]
  },
  {
   "cell_type": "code",
   "execution_count": 21,
   "metadata": {},
   "outputs": [
    {
     "name": "stdout",
     "output_type": "stream",
     "text": [
      "RECM del modelo CatBoost con el conjunto de prueba: 1791.822897943184\n",
      "CPU times: total: 328 ms\n",
      "Wall time: 73.3 ms\n"
     ]
    },
    {
     "name": "stderr",
     "output_type": "stream",
     "text": [
      "c:\\Users\\luisP\\AppData\\Local\\Programs\\Python\\Python312\\Lib\\site-packages\\sklearn\\metrics\\_regression.py:492: FutureWarning: 'squared' is deprecated in version 1.4 and will be removed in 1.6. To calculate the root mean squared error, use the function'root_mean_squared_error'.\n",
      "  warnings.warn(\n"
     ]
    }
   ],
   "source": [
    "%%time\n",
    "test_predictions = model_4.predict(X_test)\n",
    "        \n",
    "error = mean_squared_error(Y_test, test_predictions, squared=False)\n",
    "print(\"RECM del modelo CatBoost con el conjunto de prueba:\", error)"
   ]
  },
  {
   "cell_type": "markdown",
   "metadata": {},
   "source": [
    "Muy buen error de prediccion y excelente el tiempo de respuesta. Sin duda el mejor."
   ]
  },
  {
   "cell_type": "code",
   "execution_count": 22,
   "metadata": {},
   "outputs": [
    {
     "data": {
      "text/plain": [
       "count    354369.000000\n",
       "mean       4416.656776\n",
       "std        4514.158514\n",
       "min           0.000000\n",
       "25%        1050.000000\n",
       "50%        2700.000000\n",
       "75%        6400.000000\n",
       "max       20000.000000\n",
       "Name: Price, dtype: float64"
      ]
     },
     "execution_count": 22,
     "metadata": {},
     "output_type": "execute_result"
    }
   ],
   "source": [
    "df['Price'].describe()"
   ]
  },
  {
   "cell_type": "markdown",
   "metadata": {},
   "source": [
    "# Conclusión final.\n",
    "---\n",
    "En nuestro mejor modelo obtuvimos un RMSE de $1,791 USD, valor considerable ya que en promedio el valor de los autos es de $4,417 USD, se puede interpretar que el error estándar es aproximadamente el 40.5% del promedio de pedidos. Este es un valor considerable y no creo que pueda ser considerado aceptable por el contexto y los objetivos del negocio. Tratamos con un dataset con bastantes datos nulos e inconsistentes. La propuesta para mejorar el resultado sería trabajar en pulir la información proporcionada y buscar la manera de completar los valores ausentes."
   ]
  }
 ],
 "metadata": {
  "ExecuteTimeLog": [
   {
    "duration": 473,
    "start_time": "2024-06-01T15:21:11.221Z"
   },
   {
    "duration": 840,
    "start_time": "2024-06-01T15:21:51.112Z"
   },
   {
    "duration": 26,
    "start_time": "2024-06-01T15:22:19.168Z"
   },
   {
    "duration": 23,
    "start_time": "2024-06-01T15:23:39.126Z"
   },
   {
    "duration": 25,
    "start_time": "2024-06-01T15:23:50.878Z"
   },
   {
    "duration": 23,
    "start_time": "2024-06-01T15:23:59.852Z"
   },
   {
    "duration": 151,
    "start_time": "2024-06-01T15:24:24.046Z"
   },
   {
    "duration": 42,
    "start_time": "2024-06-01T15:32:22.232Z"
   },
   {
    "duration": 1712,
    "start_time": "2024-06-01T15:41:22.134Z"
   },
   {
    "duration": 473,
    "start_time": "2024-06-01T15:41:44.482Z"
   },
   {
    "duration": 753,
    "start_time": "2024-06-01T15:41:44.958Z"
   },
   {
    "duration": 170,
    "start_time": "2024-06-01T15:41:45.714Z"
   },
   {
    "duration": 37,
    "start_time": "2024-06-01T15:41:45.889Z"
   },
   {
    "duration": 43,
    "start_time": "2024-06-01T15:41:45.929Z"
   },
   {
    "duration": 100,
    "start_time": "2024-06-01T15:42:20.328Z"
   },
   {
    "duration": 135,
    "start_time": "2024-06-01T15:42:53.150Z"
   },
   {
    "duration": 19,
    "start_time": "2024-06-01T15:42:57.275Z"
   },
   {
    "duration": 41,
    "start_time": "2024-06-01T15:43:02.455Z"
   },
   {
    "duration": 101,
    "start_time": "2024-06-01T15:43:31.513Z"
   },
   {
    "duration": 40,
    "start_time": "2024-06-01T15:43:59.353Z"
   },
   {
    "duration": 26,
    "start_time": "2024-06-01T15:44:14.231Z"
   },
   {
    "duration": 42,
    "start_time": "2024-06-01T15:44:24.595Z"
   },
   {
    "duration": 22,
    "start_time": "2024-06-01T15:45:03.090Z"
   },
   {
    "duration": 43,
    "start_time": "2024-06-01T15:45:19.551Z"
   },
   {
    "duration": 47,
    "start_time": "2024-06-01T15:47:27.644Z"
   },
   {
    "duration": 12,
    "start_time": "2024-06-01T15:48:00.003Z"
   },
   {
    "duration": 44,
    "start_time": "2024-06-01T15:48:23.069Z"
   },
   {
    "duration": 38,
    "start_time": "2024-06-01T15:49:02.674Z"
   },
   {
    "duration": 40,
    "start_time": "2024-06-01T16:14:06.332Z"
   },
   {
    "duration": 94,
    "start_time": "2024-06-01T16:16:34.262Z"
   },
   {
    "duration": 27,
    "start_time": "2024-06-01T16:17:21.700Z"
   },
   {
    "duration": 45,
    "start_time": "2024-06-01T16:17:39.712Z"
   },
   {
    "duration": 46,
    "start_time": "2024-06-01T16:18:10.839Z"
   },
   {
    "duration": 125,
    "start_time": "2024-06-01T16:25:08.988Z"
   },
   {
    "duration": 94,
    "start_time": "2024-06-01T16:25:30.155Z"
   },
   {
    "duration": 101,
    "start_time": "2024-06-01T16:25:40.666Z"
   },
   {
    "duration": 40,
    "start_time": "2024-06-01T16:31:42.041Z"
   },
   {
    "duration": 166,
    "start_time": "2024-06-01T16:33:00.626Z"
   },
   {
    "duration": 437,
    "start_time": "2024-06-01T16:33:11.686Z"
   },
   {
    "duration": 742,
    "start_time": "2024-06-01T16:33:12.128Z"
   },
   {
    "duration": 158,
    "start_time": "2024-06-01T16:33:12.872Z"
   },
   {
    "duration": 27,
    "start_time": "2024-06-01T16:33:13.033Z"
   },
   {
    "duration": 68,
    "start_time": "2024-06-01T16:33:13.065Z"
   },
   {
    "duration": 96,
    "start_time": "2024-06-01T16:33:13.136Z"
   },
   {
    "duration": 143,
    "start_time": "2024-06-01T16:33:13.235Z"
   },
   {
    "duration": 50,
    "start_time": "2024-06-01T16:33:13.381Z"
   },
   {
    "duration": 97,
    "start_time": "2024-06-01T16:38:17.589Z"
   },
   {
    "duration": 57,
    "start_time": "2024-06-01T16:38:25.791Z"
   },
   {
    "duration": 51,
    "start_time": "2024-06-01T16:44:44.082Z"
   },
   {
    "duration": 80,
    "start_time": "2024-06-01T16:45:44.496Z"
   },
   {
    "duration": 86,
    "start_time": "2024-06-01T16:46:01.059Z"
   },
   {
    "duration": 83,
    "start_time": "2024-06-01T16:46:07.053Z"
   },
   {
    "duration": 99,
    "start_time": "2024-06-01T16:47:33.142Z"
   },
   {
    "duration": 64,
    "start_time": "2024-06-01T16:47:45.702Z"
   },
   {
    "duration": 85,
    "start_time": "2024-06-01T16:47:54.410Z"
   },
   {
    "duration": 72,
    "start_time": "2024-06-01T16:48:20.016Z"
   },
   {
    "duration": 83,
    "start_time": "2024-06-01T16:48:39.377Z"
   },
   {
    "duration": 83,
    "start_time": "2024-06-01T16:49:48.860Z"
   },
   {
    "duration": 68,
    "start_time": "2024-06-01T16:50:18.560Z"
   },
   {
    "duration": 645,
    "start_time": "2024-06-01T16:51:12.996Z"
   },
   {
    "duration": 93,
    "start_time": "2024-06-01T16:51:21.276Z"
   },
   {
    "duration": 145,
    "start_time": "2024-06-01T16:51:48.764Z"
   },
   {
    "duration": 89,
    "start_time": "2024-06-01T16:52:03.624Z"
   },
   {
    "duration": 478,
    "start_time": "2024-06-01T16:52:16.640Z"
   },
   {
    "duration": 778,
    "start_time": "2024-06-01T16:52:17.125Z"
   },
   {
    "duration": 167,
    "start_time": "2024-06-01T16:52:17.905Z"
   },
   {
    "duration": 29,
    "start_time": "2024-06-01T16:52:18.075Z"
   },
   {
    "duration": 43,
    "start_time": "2024-06-01T16:52:18.126Z"
   },
   {
    "duration": 119,
    "start_time": "2024-06-01T16:52:18.172Z"
   },
   {
    "duration": 142,
    "start_time": "2024-06-01T16:52:18.295Z"
   },
   {
    "duration": 98,
    "start_time": "2024-06-01T16:52:18.441Z"
   },
   {
    "duration": 674,
    "start_time": "2024-06-01T16:52:18.542Z"
   },
   {
    "duration": 8,
    "start_time": "2024-06-01T16:52:50.792Z"
   },
   {
    "duration": 90,
    "start_time": "2024-06-01T16:52:55.421Z"
   },
   {
    "duration": 6,
    "start_time": "2024-06-01T16:54:19.926Z"
   },
   {
    "duration": 265,
    "start_time": "2024-06-01T16:54:30.969Z"
   },
   {
    "duration": 51,
    "start_time": "2024-06-01T16:56:17.131Z"
   },
   {
    "duration": 75,
    "start_time": "2024-06-01T16:56:22.746Z"
   },
   {
    "duration": 69,
    "start_time": "2024-06-01T16:56:35.679Z"
   },
   {
    "duration": 77,
    "start_time": "2024-06-01T16:56:57.140Z"
   },
   {
    "duration": 74,
    "start_time": "2024-06-01T16:57:15.363Z"
   },
   {
    "duration": 67,
    "start_time": "2024-06-01T16:57:28.314Z"
   },
   {
    "duration": 61,
    "start_time": "2024-06-01T16:58:00.013Z"
   },
   {
    "duration": 51,
    "start_time": "2024-06-01T16:58:06.184Z"
   },
   {
    "duration": 60,
    "start_time": "2024-06-01T16:59:07.152Z"
   },
   {
    "duration": 50,
    "start_time": "2024-06-01T16:59:19.108Z"
   },
   {
    "duration": 53,
    "start_time": "2024-06-01T17:00:09.310Z"
   },
   {
    "duration": 113,
    "start_time": "2024-06-01T17:03:11.235Z"
   },
   {
    "duration": 136,
    "start_time": "2024-06-01T17:08:26.188Z"
   },
   {
    "duration": 132,
    "start_time": "2024-06-01T17:08:44.647Z"
   },
   {
    "duration": 133,
    "start_time": "2024-06-01T17:09:23.398Z"
   },
   {
    "duration": 109,
    "start_time": "2024-06-01T17:11:12.979Z"
   },
   {
    "duration": 78,
    "start_time": "2024-06-01T17:11:36.771Z"
   },
   {
    "duration": 916,
    "start_time": "2024-06-01T17:13:38.699Z"
   },
   {
    "duration": 244,
    "start_time": "2024-06-01T17:14:32.306Z"
   },
   {
    "duration": 141,
    "start_time": "2024-06-01T17:19:47.236Z"
   },
   {
    "duration": 128,
    "start_time": "2024-06-01T17:20:39.060Z"
   },
   {
    "duration": 47,
    "start_time": "2024-06-01T17:22:13.409Z"
   },
   {
    "duration": 3,
    "start_time": "2024-06-01T17:25:47.923Z"
   },
   {
    "duration": 84,
    "start_time": "2024-06-01T17:28:30.595Z"
   },
   {
    "duration": 51,
    "start_time": "2024-06-01T17:28:51.284Z"
   },
   {
    "duration": 411,
    "start_time": "2024-06-01T17:29:02.379Z"
   },
   {
    "duration": 735,
    "start_time": "2024-06-01T17:29:02.794Z"
   },
   {
    "duration": 149,
    "start_time": "2024-06-01T17:29:03.532Z"
   },
   {
    "duration": 46,
    "start_time": "2024-06-01T17:29:03.684Z"
   },
   {
    "duration": 42,
    "start_time": "2024-06-01T17:29:03.734Z"
   },
   {
    "duration": 111,
    "start_time": "2024-06-01T17:29:03.779Z"
   },
   {
    "duration": 134,
    "start_time": "2024-06-01T17:29:03.892Z"
   },
   {
    "duration": 100,
    "start_time": "2024-06-01T17:29:04.029Z"
   },
   {
    "duration": 380,
    "start_time": "2024-06-01T17:29:04.131Z"
   },
   {
    "duration": 76,
    "start_time": "2024-06-01T17:32:28.593Z"
   },
   {
    "duration": 79,
    "start_time": "2024-06-01T17:32:34.935Z"
   },
   {
    "duration": 1024,
    "start_time": "2024-06-01T17:37:29.982Z"
   },
   {
    "duration": 249,
    "start_time": "2024-06-01T17:37:54.994Z"
   },
   {
    "duration": 46,
    "start_time": "2024-06-01T17:39:09.176Z"
   },
   {
    "duration": 61,
    "start_time": "2024-06-01T17:39:27.435Z"
   },
   {
    "duration": 44,
    "start_time": "2024-06-01T17:39:30.930Z"
   },
   {
    "duration": 76,
    "start_time": "2024-06-01T17:43:16.307Z"
   },
   {
    "duration": 59,
    "start_time": "2024-06-01T19:02:01.902Z"
   },
   {
    "duration": 521,
    "start_time": "2024-06-01T19:05:09.954Z"
   },
   {
    "duration": 819,
    "start_time": "2024-06-01T19:05:10.480Z"
   },
   {
    "duration": 165,
    "start_time": "2024-06-01T19:05:11.303Z"
   },
   {
    "duration": 70,
    "start_time": "2024-06-01T19:05:11.471Z"
   },
   {
    "duration": 52,
    "start_time": "2024-06-01T19:05:11.549Z"
   },
   {
    "duration": 157,
    "start_time": "2024-06-01T19:05:11.605Z"
   },
   {
    "duration": 189,
    "start_time": "2024-06-01T19:05:11.765Z"
   },
   {
    "duration": 346,
    "start_time": "2024-06-01T19:05:11.959Z"
   },
   {
    "duration": 102,
    "start_time": "2024-06-01T19:05:30.449Z"
   },
   {
    "duration": 25,
    "start_time": "2024-06-01T19:09:25.306Z"
   },
   {
    "duration": 20,
    "start_time": "2024-06-01T19:09:46.718Z"
   },
   {
    "duration": 66,
    "start_time": "2024-06-01T19:14:51.600Z"
   },
   {
    "duration": 67,
    "start_time": "2024-06-01T19:14:57.334Z"
   },
   {
    "duration": 11,
    "start_time": "2024-06-01T19:25:45.961Z"
   },
   {
    "duration": 39,
    "start_time": "2024-06-01T19:26:02.345Z"
   },
   {
    "duration": 36,
    "start_time": "2024-06-01T19:26:22.718Z"
   },
   {
    "duration": 39,
    "start_time": "2024-06-01T19:26:38.872Z"
   },
   {
    "duration": 43,
    "start_time": "2024-06-01T19:26:59.856Z"
   },
   {
    "duration": 53,
    "start_time": "2024-06-01T19:27:20.009Z"
   },
   {
    "duration": 4741,
    "start_time": "2024-06-01T19:29:20.902Z"
   },
   {
    "duration": 22,
    "start_time": "2024-06-01T19:36:10.440Z"
   },
   {
    "duration": 1460,
    "start_time": "2024-06-01T19:36:19.371Z"
   },
   {
    "duration": 793,
    "start_time": "2024-06-01T19:36:20.835Z"
   },
   {
    "duration": 170,
    "start_time": "2024-06-01T19:36:21.632Z"
   },
   {
    "duration": 44,
    "start_time": "2024-06-01T19:36:21.805Z"
   },
   {
    "duration": 87,
    "start_time": "2024-06-01T19:36:21.856Z"
   },
   {
    "duration": 77,
    "start_time": "2024-06-01T19:36:21.946Z"
   },
   {
    "duration": 103,
    "start_time": "2024-06-01T19:36:22.026Z"
   },
   {
    "duration": 141,
    "start_time": "2024-06-01T19:36:22.133Z"
   },
   {
    "duration": 312,
    "start_time": "2024-06-01T19:36:22.277Z"
   },
   {
    "duration": 48,
    "start_time": "2024-06-01T19:36:22.592Z"
   },
   {
    "duration": 46,
    "start_time": "2024-06-01T19:36:22.644Z"
   },
   {
    "duration": 23,
    "start_time": "2024-06-01T19:36:50.830Z"
   },
   {
    "duration": 14,
    "start_time": "2024-06-01T19:37:10.657Z"
   },
   {
    "duration": 519,
    "start_time": "2024-06-01T19:37:21.089Z"
   },
   {
    "duration": 18,
    "start_time": "2024-06-01T19:37:32.951Z"
   },
   {
    "duration": 1420,
    "start_time": "2024-06-01T19:37:43.586Z"
   },
   {
    "duration": 818,
    "start_time": "2024-06-01T19:37:45.013Z"
   },
   {
    "duration": 207,
    "start_time": "2024-06-01T19:37:46.030Z"
   },
   {
    "duration": 29,
    "start_time": "2024-06-01T19:37:49.012Z"
   },
   {
    "duration": 56,
    "start_time": "2024-06-01T19:37:51.683Z"
   },
   {
    "duration": 387,
    "start_time": "2024-06-01T19:39:08.165Z"
   },
   {
    "duration": 323,
    "start_time": "2024-06-01T19:39:54.596Z"
   },
   {
    "duration": 252,
    "start_time": "2024-06-01T19:41:30.826Z"
   },
   {
    "duration": 28,
    "start_time": "2024-06-01T19:41:49.307Z"
   },
   {
    "duration": 38,
    "start_time": "2024-06-01T19:41:53.682Z"
   },
   {
    "duration": 46,
    "start_time": "2024-06-01T19:42:05.906Z"
   },
   {
    "duration": 42,
    "start_time": "2024-06-01T19:42:14.020Z"
   },
   {
    "duration": 416,
    "start_time": "2024-06-01T19:42:44.390Z"
   },
   {
    "duration": 12,
    "start_time": "2024-06-01T19:42:49.982Z"
   },
   {
    "duration": 13,
    "start_time": "2024-06-01T19:43:05.942Z"
   },
   {
    "duration": 12,
    "start_time": "2024-06-01T19:43:15.352Z"
   },
   {
    "duration": 35,
    "start_time": "2024-06-01T19:44:00.539Z"
   },
   {
    "duration": 41,
    "start_time": "2024-06-01T19:44:11.232Z"
   },
   {
    "duration": 35,
    "start_time": "2024-06-01T19:44:27.372Z"
   },
   {
    "duration": 40,
    "start_time": "2024-06-01T19:46:22.822Z"
   },
   {
    "duration": 429,
    "start_time": "2024-06-01T19:47:05.846Z"
   },
   {
    "duration": 204,
    "start_time": "2024-06-01T19:47:30.586Z"
   },
   {
    "duration": 53,
    "start_time": "2024-06-01T19:48:44.201Z"
   },
   {
    "duration": 90,
    "start_time": "2024-06-01T19:48:47.070Z"
   },
   {
    "duration": 122,
    "start_time": "2024-06-01T19:49:02.519Z"
   },
   {
    "duration": 325,
    "start_time": "2024-06-01T19:49:10.024Z"
   },
   {
    "duration": 31,
    "start_time": "2024-06-01T19:49:12.878Z"
   },
   {
    "duration": 50,
    "start_time": "2024-06-01T19:49:17.152Z"
   },
   {
    "duration": 381,
    "start_time": "2024-06-01T22:02:47.931Z"
   },
   {
    "duration": 5153,
    "start_time": "2024-06-01T22:02:56.696Z"
   },
   {
    "duration": 789,
    "start_time": "2024-06-01T22:03:01.853Z"
   },
   {
    "duration": 153,
    "start_time": "2024-06-01T22:03:02.644Z"
   },
   {
    "duration": 34,
    "start_time": "2024-06-01T22:03:02.801Z"
   },
   {
    "duration": 340,
    "start_time": "2024-06-01T22:03:02.840Z"
   },
   {
    "duration": 203,
    "start_time": "2024-06-01T22:03:03.184Z"
   },
   {
    "duration": 226,
    "start_time": "2024-06-01T22:03:03.390Z"
   },
   {
    "duration": 46,
    "start_time": "2024-06-01T22:03:03.624Z"
   },
   {
    "duration": 123,
    "start_time": "2024-06-01T22:03:03.674Z"
   },
   {
    "duration": 143,
    "start_time": "2024-06-01T22:03:03.801Z"
   },
   {
    "duration": 323,
    "start_time": "2024-06-01T22:03:03.947Z"
   },
   {
    "duration": 31,
    "start_time": "2024-06-01T22:03:04.273Z"
   },
   {
    "duration": 219,
    "start_time": "2024-06-01T22:03:04.324Z"
   },
   {
    "duration": 12,
    "start_time": "2024-06-01T22:03:11.146Z"
   },
   {
    "duration": 3,
    "start_time": "2024-06-01T22:03:37.050Z"
   },
   {
    "duration": 7,
    "start_time": "2024-06-01T22:03:41.235Z"
   },
   {
    "duration": 25,
    "start_time": "2024-06-01T22:04:55.119Z"
   },
   {
    "duration": 22,
    "start_time": "2024-06-01T22:05:33.090Z"
   },
   {
    "duration": 27,
    "start_time": "2024-06-01T22:05:39.191Z"
   },
   {
    "duration": 25,
    "start_time": "2024-06-01T22:05:46.575Z"
   },
   {
    "duration": 324,
    "start_time": "2024-06-01T22:06:36.743Z"
   },
   {
    "duration": 699,
    "start_time": "2024-06-01T22:07:46.078Z"
   },
   {
    "duration": 113,
    "start_time": "2024-06-01T22:07:54.720Z"
   },
   {
    "duration": 63,
    "start_time": "2024-06-01T22:17:52.496Z"
   },
   {
    "duration": 63,
    "start_time": "2024-06-01T22:18:06.591Z"
   },
   {
    "duration": 108,
    "start_time": "2024-06-01T22:18:14.408Z"
   },
   {
    "duration": 45,
    "start_time": "2024-06-01T22:22:49.225Z"
   },
   {
    "duration": 13,
    "start_time": "2024-06-01T22:33:39.687Z"
   },
   {
    "duration": 9,
    "start_time": "2024-06-01T22:34:04.439Z"
   },
   {
    "duration": 68,
    "start_time": "2024-06-01T22:36:20.657Z"
   },
   {
    "duration": 433,
    "start_time": "2024-06-01T22:41:44.325Z"
   },
   {
    "duration": 5,
    "start_time": "2024-06-01T22:42:11.572Z"
   },
   {
    "duration": 5,
    "start_time": "2024-06-01T22:42:32.142Z"
   },
   {
    "duration": 87,
    "start_time": "2024-06-01T22:42:36.436Z"
   },
   {
    "duration": 60,
    "start_time": "2024-06-01T22:42:58.282Z"
   },
   {
    "duration": 51,
    "start_time": "2024-06-01T22:45:24.859Z"
   },
   {
    "duration": 1332559,
    "start_time": "2024-06-01T23:08:17.040Z"
   },
   {
    "duration": 164,
    "start_time": "2024-06-02T00:12:49.742Z"
   },
   {
    "duration": 5223,
    "start_time": "2024-06-02T00:13:00.064Z"
   },
   {
    "duration": 816,
    "start_time": "2024-06-02T00:13:05.290Z"
   },
   {
    "duration": 161,
    "start_time": "2024-06-02T00:13:06.109Z"
   },
   {
    "duration": 22,
    "start_time": "2024-06-02T00:13:06.273Z"
   },
   {
    "duration": 339,
    "start_time": "2024-06-02T00:13:06.300Z"
   },
   {
    "duration": 198,
    "start_time": "2024-06-02T00:13:06.642Z"
   },
   {
    "duration": 278,
    "start_time": "2024-06-02T00:13:06.843Z"
   },
   {
    "duration": 41,
    "start_time": "2024-06-02T00:13:07.130Z"
   },
   {
    "duration": 108,
    "start_time": "2024-06-02T00:13:07.174Z"
   },
   {
    "duration": 132,
    "start_time": "2024-06-02T00:13:07.285Z"
   },
   {
    "duration": 328,
    "start_time": "2024-06-02T00:13:07.420Z"
   },
   {
    "duration": 31,
    "start_time": "2024-06-02T00:13:07.751Z"
   },
   {
    "duration": 49,
    "start_time": "2024-06-02T00:13:07.785Z"
   },
   {
    "duration": 671,
    "start_time": "2024-06-02T00:13:07.839Z"
   },
   {
    "duration": 81,
    "start_time": "2024-06-02T00:13:08.513Z"
   },
   {
    "duration": 76,
    "start_time": "2024-06-02T00:13:08.598Z"
   },
   {
    "duration": 36998,
    "start_time": "2024-06-02T00:13:08.734Z"
   },
   {
    "duration": 34,
    "start_time": "2024-06-02T00:56:10.216Z"
   },
   {
    "duration": 18,
    "start_time": "2024-06-02T01:15:03.321Z"
   },
   {
    "duration": 1574,
    "start_time": "2024-06-02T01:15:18.097Z"
   },
   {
    "duration": 704,
    "start_time": "2024-06-02T01:15:20.742Z"
   },
   {
    "duration": 157,
    "start_time": "2024-06-02T01:15:22.596Z"
   },
   {
    "duration": 23,
    "start_time": "2024-06-02T01:15:26.470Z"
   },
   {
    "duration": 329,
    "start_time": "2024-06-02T01:15:32.038Z"
   },
   {
    "duration": 182,
    "start_time": "2024-06-02T01:15:35.233Z"
   },
   {
    "duration": 196,
    "start_time": "2024-06-02T01:15:38.641Z"
   },
   {
    "duration": 40,
    "start_time": "2024-06-02T01:15:44.963Z"
   },
   {
    "duration": 102,
    "start_time": "2024-06-02T01:15:52.108Z"
   },
   {
    "duration": 117,
    "start_time": "2024-06-02T01:15:56.157Z"
   },
   {
    "duration": 340,
    "start_time": "2024-06-02T01:16:25.143Z"
   },
   {
    "duration": 29,
    "start_time": "2024-06-02T01:16:34.146Z"
   },
   {
    "duration": 24,
    "start_time": "2024-06-02T01:16:43.604Z"
   },
   {
    "duration": 665,
    "start_time": "2024-06-02T01:16:51.107Z"
   },
   {
    "duration": 73,
    "start_time": "2024-06-02T01:16:55.133Z"
   },
   {
    "duration": 51,
    "start_time": "2024-06-02T01:16:58.768Z"
   },
   {
    "duration": 37510,
    "start_time": "2024-06-02T01:17:04.950Z"
   },
   {
    "duration": 15,
    "start_time": "2024-06-02T01:20:02.894Z"
   },
   {
    "duration": 51,
    "start_time": "2024-06-02T01:27:47.377Z"
   },
   {
    "duration": 496,
    "start_time": "2024-06-02T01:28:02.691Z"
   },
   {
    "duration": 45,
    "start_time": "2024-06-02T01:28:12.537Z"
   },
   {
    "duration": 36,
    "start_time": "2024-06-02T01:28:28.365Z"
   },
   {
    "duration": 29,
    "start_time": "2024-06-02T01:28:42.437Z"
   },
   {
    "duration": 43,
    "start_time": "2024-06-02T01:28:50.874Z"
   },
   {
    "duration": 134,
    "start_time": "2024-06-02T01:29:48.752Z"
   },
   {
    "duration": 131,
    "start_time": "2024-06-02T01:29:54.199Z"
   },
   {
    "duration": 141,
    "start_time": "2024-06-02T01:30:00.658Z"
   },
   {
    "duration": 140,
    "start_time": "2024-06-02T01:30:33.535Z"
   },
   {
    "duration": 4,
    "start_time": "2024-06-02T02:22:53.724Z"
   },
   {
    "duration": 5,
    "start_time": "2024-06-02T02:24:15.447Z"
   },
   {
    "duration": 1074,
    "start_time": "2024-06-02T02:27:18.796Z"
   },
   {
    "duration": 24,
    "start_time": "2024-06-02T02:30:37.169Z"
   },
   {
    "duration": 4,
    "start_time": "2024-06-02T02:30:52.782Z"
   },
   {
    "duration": 6,
    "start_time": "2024-06-02T02:30:58.444Z"
   },
   {
    "duration": 43,
    "start_time": "2024-06-02T02:31:03.221Z"
   },
   {
    "duration": 4,
    "start_time": "2024-06-02T02:31:11.485Z"
   },
   {
    "duration": 18,
    "start_time": "2024-06-02T02:33:12.622Z"
   },
   {
    "duration": 24,
    "start_time": "2024-06-02T02:34:44.178Z"
   },
   {
    "duration": 188,
    "start_time": "2024-06-02T02:35:02.105Z"
   },
   {
    "duration": 4,
    "start_time": "2024-06-02T02:36:27.717Z"
   },
   {
    "duration": 4,
    "start_time": "2024-06-02T02:36:29.766Z"
   },
   {
    "duration": 7920,
    "start_time": "2024-06-02T02:36:31.811Z"
   },
   {
    "duration": 7,
    "start_time": "2024-06-02T02:37:31.298Z"
   },
   {
    "duration": 7930,
    "start_time": "2024-06-02T02:37:38.911Z"
   },
   {
    "duration": 230,
    "start_time": "2024-06-02T02:39:01.472Z"
   },
   {
    "duration": 4423,
    "start_time": "2024-06-02T02:39:32.949Z"
   },
   {
    "duration": 5432,
    "start_time": "2024-06-02T20:02:41.018Z"
   },
   {
    "duration": 779,
    "start_time": "2024-06-02T20:02:46.454Z"
   },
   {
    "duration": 150,
    "start_time": "2024-06-02T20:02:47.236Z"
   },
   {
    "duration": 42,
    "start_time": "2024-06-02T20:02:47.390Z"
   },
   {
    "duration": 321,
    "start_time": "2024-06-02T20:02:47.436Z"
   },
   {
    "duration": 193,
    "start_time": "2024-06-02T20:02:47.761Z"
   },
   {
    "duration": 247,
    "start_time": "2024-06-02T20:02:47.957Z"
   },
   {
    "duration": 45,
    "start_time": "2024-06-02T20:02:48.208Z"
   },
   {
    "duration": 107,
    "start_time": "2024-06-02T20:02:48.256Z"
   },
   {
    "duration": 136,
    "start_time": "2024-06-02T20:02:48.366Z"
   },
   {
    "duration": 352,
    "start_time": "2024-06-02T20:02:48.506Z"
   },
   {
    "duration": 30,
    "start_time": "2024-06-02T20:02:48.861Z"
   },
   {
    "duration": 49,
    "start_time": "2024-06-02T20:02:48.894Z"
   },
   {
    "duration": 694,
    "start_time": "2024-06-02T20:02:48.949Z"
   },
   {
    "duration": 86,
    "start_time": "2024-06-02T20:02:49.646Z"
   },
   {
    "duration": 98,
    "start_time": "2024-06-02T20:02:49.735Z"
   },
   {
    "duration": 37246,
    "start_time": "2024-06-02T20:02:49.842Z"
   },
   {
    "duration": 4,
    "start_time": "2024-06-02T20:03:27.091Z"
   },
   {
    "duration": 5,
    "start_time": "2024-06-02T20:03:27.098Z"
   },
   {
    "duration": 6028,
    "start_time": "2024-06-02T20:03:27.107Z"
   },
   {
    "duration": 4425,
    "start_time": "2024-06-02T20:03:33.138Z"
   },
   {
    "duration": 162,
    "start_time": "2024-06-02T20:03:37.631Z"
   },
   {
    "duration": 30,
    "start_time": "2024-06-02T20:13:22.487Z"
   },
   {
    "duration": 818,
    "start_time": "2024-06-02T20:19:18.488Z"
   },
   {
    "duration": 4832,
    "start_time": "2024-06-02T20:20:33.698Z"
   },
   {
    "duration": 948,
    "start_time": "2024-06-02T20:21:11.350Z"
   },
   {
    "duration": 1541,
    "start_time": "2024-06-02T20:21:53.418Z"
   },
   {
    "duration": 2284,
    "start_time": "2024-06-02T20:22:15.215Z"
   },
   {
    "duration": 3790,
    "start_time": "2024-06-02T20:22:32.617Z"
   },
   {
    "duration": 11,
    "start_time": "2024-06-02T20:24:52.568Z"
   },
   {
    "duration": 3772,
    "start_time": "2024-06-02T20:25:06.031Z"
   },
   {
    "duration": 13674,
    "start_time": "2024-06-02T20:26:39.443Z"
   },
   {
    "duration": 53577,
    "start_time": "2024-06-02T20:27:43.830Z"
   },
   {
    "duration": 53813,
    "start_time": "2024-06-02T20:28:50.184Z"
   },
   {
    "duration": 6,
    "start_time": "2024-06-02T20:36:56.604Z"
   },
   {
    "duration": 2777,
    "start_time": "2024-06-02T20:38:26.301Z"
   },
   {
    "duration": 197979,
    "start_time": "2024-06-02T20:39:03.325Z"
   },
   {
    "duration": 198159,
    "start_time": "2024-06-02T20:48:11.855Z"
   },
   {
    "duration": 220980,
    "start_time": "2024-06-02T20:52:17.326Z"
   },
   {
    "duration": 144,
    "start_time": "2024-06-02T21:06:37.879Z"
   },
   {
    "duration": 5,
    "start_time": "2024-06-02T21:22:12.140Z"
   },
   {
    "duration": 265,
    "start_time": "2024-06-02T21:25:55.772Z"
   },
   {
    "duration": 86,
    "start_time": "2024-06-02T21:27:55.044Z"
   },
   {
    "duration": 4,
    "start_time": "2024-06-02T21:30:46.613Z"
   },
   {
    "duration": 6,
    "start_time": "2024-06-02T21:48:59.385Z"
   },
   {
    "duration": 15,
    "start_time": "2024-06-02T21:49:04.706Z"
   },
   {
    "duration": 364,
    "start_time": "2024-06-04T13:44:34.672Z"
   },
   {
    "duration": 5546,
    "start_time": "2024-06-04T13:45:07.124Z"
   },
   {
    "duration": 764,
    "start_time": "2024-06-04T13:45:15.664Z"
   },
   {
    "duration": 164,
    "start_time": "2024-06-04T13:45:18.581Z"
   },
   {
    "duration": 23,
    "start_time": "2024-06-04T13:45:20.927Z"
   },
   {
    "duration": 306,
    "start_time": "2024-06-04T13:45:49.766Z"
   },
   {
    "duration": 257,
    "start_time": "2024-06-04T13:45:53.244Z"
   },
   {
    "duration": 199,
    "start_time": "2024-06-04T13:45:56.232Z"
   },
   {
    "duration": 40,
    "start_time": "2024-06-04T13:46:03.672Z"
   },
   {
    "duration": 138,
    "start_time": "2024-06-04T13:48:44.919Z"
   },
   {
    "duration": 129,
    "start_time": "2024-06-04T13:48:51.516Z"
   },
   {
    "duration": 341,
    "start_time": "2024-06-04T13:49:16.427Z"
   },
   {
    "duration": 29,
    "start_time": "2024-06-04T13:49:34.021Z"
   },
   {
    "duration": 26,
    "start_time": "2024-06-04T13:49:37.972Z"
   },
   {
    "duration": 727,
    "start_time": "2024-06-04T13:49:40.799Z"
   },
   {
    "duration": 98,
    "start_time": "2024-06-04T13:53:35.537Z"
   },
   {
    "duration": 121,
    "start_time": "2024-06-04T13:55:55.418Z"
   },
   {
    "duration": 42832,
    "start_time": "2024-06-04T13:56:52.908Z"
   },
   {
    "duration": 4,
    "start_time": "2024-06-04T13:58:26.383Z"
   },
   {
    "duration": 4,
    "start_time": "2024-06-04T13:58:30.541Z"
   },
   {
    "duration": 4993,
    "start_time": "2024-06-04T13:58:36.357Z"
   },
   {
    "duration": 4451,
    "start_time": "2024-06-04T13:58:51.488Z"
   },
   {
    "duration": 160,
    "start_time": "2024-06-04T13:59:26.150Z"
   },
   {
    "duration": 27409,
    "start_time": "2024-06-04T14:07:22.217Z"
   },
   {
    "duration": 26839,
    "start_time": "2024-06-04T14:10:56.113Z"
   },
   {
    "duration": 13,
    "start_time": "2024-06-04T14:14:24.024Z"
   },
   {
    "duration": 14,
    "start_time": "2024-06-04T14:19:02.975Z"
   },
   {
    "duration": 12,
    "start_time": "2024-06-04T14:19:20.016Z"
   },
   {
    "duration": 13,
    "start_time": "2024-06-04T14:19:25.583Z"
   },
   {
    "duration": 110,
    "start_time": "2024-06-04T14:46:23.729Z"
   },
   {
    "duration": 93,
    "start_time": "2024-06-04T14:49:41.898Z"
   },
   {
    "duration": 72,
    "start_time": "2024-06-04T14:49:53.956Z"
   }
  ],
  "kernelspec": {
   "display_name": "Python 3 (ipykernel)",
   "language": "python",
   "name": "python3"
  },
  "language_info": {
   "codemirror_mode": {
    "name": "ipython",
    "version": 3
   },
   "file_extension": ".py",
   "mimetype": "text/x-python",
   "name": "python",
   "nbconvert_exporter": "python",
   "pygments_lexer": "ipython3",
   "version": "3.12.4"
  },
  "toc": {
   "base_numbering": 1,
   "nav_menu": {},
   "number_sections": true,
   "sideBar": true,
   "skip_h1_title": true,
   "title_cell": "Table of Contents",
   "title_sidebar": "Contents",
   "toc_cell": false,
   "toc_position": {},
   "toc_section_display": true,
   "toc_window_display": false
  }
 },
 "nbformat": 4,
 "nbformat_minor": 2
}
